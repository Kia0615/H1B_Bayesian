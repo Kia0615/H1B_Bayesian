{
 "cells": [
  {
   "cell_type": "code",
   "execution_count": 47,
   "metadata": {
    "collapsed": true
   },
   "outputs": [],
   "source": [
    "import numpy as np\n",
    "import pandas as pd\n",
    "import seaborn as sns\n",
    "from sklearn.preprocessing import StandardScaler\n",
    "from sklearn.model_selection import train_test_split\n",
    "from sklearn.metrics import classification_report\n",
    "from sklearn.model_selection import cross_val_predict\n",
    "from sklearn.metrics import accuracy_score\n",
    "from sklearn import linear_model\n",
    "from sklearn.decomposition import PCA\n",
    "from sklearn.manifold import TSNE\n",
    "import matplotlib as mpl\n",
    "import matplotlib.pyplot as plt\n",
    "import matplotlib.colors as colors\n",
    "from matplotlib import cm\n",
    "from pylab import savefig\n",
    "%matplotlib inline"
   ]
  },
  {
   "cell_type": "code",
   "execution_count": 2,
   "metadata": {},
   "outputs": [
    {
     "data": {
      "text/html": [
       "<div>\n",
       "<style scoped>\n",
       "    .dataframe tbody tr th:only-of-type {\n",
       "        vertical-align: middle;\n",
       "    }\n",
       "\n",
       "    .dataframe tbody tr th {\n",
       "        vertical-align: top;\n",
       "    }\n",
       "\n",
       "    .dataframe thead th {\n",
       "        text-align: right;\n",
       "    }\n",
       "</style>\n",
       "<table border=\"1\" class=\"dataframe\">\n",
       "  <thead>\n",
       "    <tr style=\"text-align: right;\">\n",
       "      <th></th>\n",
       "      <th>CASE_SUBMITTED_DAY</th>\n",
       "      <th>CASE_SUBMITTED_MONTH</th>\n",
       "      <th>CASE_SUBMITTED_YEAR</th>\n",
       "      <th>DECISION_DAY</th>\n",
       "      <th>DECISION_MONTH</th>\n",
       "      <th>DECISION_YEAR</th>\n",
       "      <th>VISA_CLASS</th>\n",
       "      <th>EMPLOYER_NAME</th>\n",
       "      <th>EMPLOYER_STATE</th>\n",
       "      <th>EMPLOYER_COUNTRY</th>\n",
       "      <th>...</th>\n",
       "      <th>PW_SOURCE_YEAR</th>\n",
       "      <th>PW_SOURCE_OTHER</th>\n",
       "      <th>WAGE_RATE_OF_PAY_FROM</th>\n",
       "      <th>WAGE_RATE_OF_PAY_TO</th>\n",
       "      <th>WAGE_UNIT_OF_PAY</th>\n",
       "      <th>H-1B_DEPENDENT</th>\n",
       "      <th>WILLFUL_VIOLATOR</th>\n",
       "      <th>WORKSITE_STATE</th>\n",
       "      <th>WORKSITE_POSTAL_CODE</th>\n",
       "      <th>CASE_STATUS</th>\n",
       "    </tr>\n",
       "  </thead>\n",
       "  <tbody>\n",
       "    <tr>\n",
       "      <th>0</th>\n",
       "      <td>24</td>\n",
       "      <td>2</td>\n",
       "      <td>2016</td>\n",
       "      <td>1</td>\n",
       "      <td>10</td>\n",
       "      <td>2016</td>\n",
       "      <td>H1B</td>\n",
       "      <td>DISCOVER PRODUCTS INC</td>\n",
       "      <td>IL</td>\n",
       "      <td>UNITED STATES OF AMERICA</td>\n",
       "      <td>...</td>\n",
       "      <td>2015.0</td>\n",
       "      <td>OFLC ONLINE DATA CENTER</td>\n",
       "      <td>65811.0</td>\n",
       "      <td>67320.0</td>\n",
       "      <td>Year</td>\n",
       "      <td>N</td>\n",
       "      <td>N</td>\n",
       "      <td>IL</td>\n",
       "      <td>60015</td>\n",
       "      <td>CERTIFIEDWITHDRAWN</td>\n",
       "    </tr>\n",
       "    <tr>\n",
       "      <th>1</th>\n",
       "      <td>4</td>\n",
       "      <td>3</td>\n",
       "      <td>2016</td>\n",
       "      <td>1</td>\n",
       "      <td>10</td>\n",
       "      <td>2016</td>\n",
       "      <td>H1B</td>\n",
       "      <td>DFS SERVICES LLC</td>\n",
       "      <td>IL</td>\n",
       "      <td>UNITED STATES OF AMERICA</td>\n",
       "      <td>...</td>\n",
       "      <td>2015.0</td>\n",
       "      <td>WILLIS TOWERS WATSON SURVEY</td>\n",
       "      <td>53000.0</td>\n",
       "      <td>57200.0</td>\n",
       "      <td>Year</td>\n",
       "      <td>N</td>\n",
       "      <td>N</td>\n",
       "      <td>IL</td>\n",
       "      <td>60015</td>\n",
       "      <td>CERTIFIEDWITHDRAWN</td>\n",
       "    </tr>\n",
       "    <tr>\n",
       "      <th>2</th>\n",
       "      <td>10</td>\n",
       "      <td>3</td>\n",
       "      <td>2016</td>\n",
       "      <td>1</td>\n",
       "      <td>10</td>\n",
       "      <td>2016</td>\n",
       "      <td>H1B</td>\n",
       "      <td>EASTBANC TECHNOLOGIES LLC</td>\n",
       "      <td>DC</td>\n",
       "      <td>UNITED STATES OF AMERICA</td>\n",
       "      <td>...</td>\n",
       "      <td>2015.0</td>\n",
       "      <td>OFLC ONLINE DATA CENTER</td>\n",
       "      <td>77000.0</td>\n",
       "      <td>0.0</td>\n",
       "      <td>Year</td>\n",
       "      <td>Y</td>\n",
       "      <td>N</td>\n",
       "      <td>DC</td>\n",
       "      <td>20007</td>\n",
       "      <td>CERTIFIEDWITHDRAWN</td>\n",
       "    </tr>\n",
       "    <tr>\n",
       "      <th>3</th>\n",
       "      <td>28</td>\n",
       "      <td>9</td>\n",
       "      <td>2016</td>\n",
       "      <td>1</td>\n",
       "      <td>10</td>\n",
       "      <td>2016</td>\n",
       "      <td>H1B</td>\n",
       "      <td>INFO SERVICES LLC</td>\n",
       "      <td>MI</td>\n",
       "      <td>UNITED STATES OF AMERICA</td>\n",
       "      <td>...</td>\n",
       "      <td>2016.0</td>\n",
       "      <td>OFLC ONLINE DATA CENTER</td>\n",
       "      <td>102000.0</td>\n",
       "      <td>0.0</td>\n",
       "      <td>Year</td>\n",
       "      <td>Y</td>\n",
       "      <td>N</td>\n",
       "      <td>NJ</td>\n",
       "      <td>7302</td>\n",
       "      <td>WITHDRAWN</td>\n",
       "    </tr>\n",
       "    <tr>\n",
       "      <th>4</th>\n",
       "      <td>22</td>\n",
       "      <td>2</td>\n",
       "      <td>2015</td>\n",
       "      <td>2</td>\n",
       "      <td>10</td>\n",
       "      <td>2016</td>\n",
       "      <td>H1B</td>\n",
       "      <td>BBandT CORPORATION</td>\n",
       "      <td>NC</td>\n",
       "      <td>UNITED STATES OF AMERICA</td>\n",
       "      <td>...</td>\n",
       "      <td>2015.0</td>\n",
       "      <td>OFLC ONLINE DATA CENTER</td>\n",
       "      <td>132500.0</td>\n",
       "      <td>0.0</td>\n",
       "      <td>Year</td>\n",
       "      <td>N</td>\n",
       "      <td>N</td>\n",
       "      <td>NY</td>\n",
       "      <td>10036</td>\n",
       "      <td>CERTIFIEDWITHDRAWN</td>\n",
       "    </tr>\n",
       "  </tbody>\n",
       "</table>\n",
       "<p>5 rows × 27 columns</p>\n",
       "</div>"
      ],
      "text/plain": [
       "   CASE_SUBMITTED_DAY  CASE_SUBMITTED_MONTH  CASE_SUBMITTED_YEAR  \\\n",
       "0                  24                     2                 2016   \n",
       "1                   4                     3                 2016   \n",
       "2                  10                     3                 2016   \n",
       "3                  28                     9                 2016   \n",
       "4                  22                     2                 2015   \n",
       "\n",
       "   DECISION_DAY  DECISION_MONTH  DECISION_YEAR VISA_CLASS  \\\n",
       "0             1              10           2016        H1B   \n",
       "1             1              10           2016        H1B   \n",
       "2             1              10           2016        H1B   \n",
       "3             1              10           2016        H1B   \n",
       "4             2              10           2016        H1B   \n",
       "\n",
       "               EMPLOYER_NAME EMPLOYER_STATE          EMPLOYER_COUNTRY  \\\n",
       "0      DISCOVER PRODUCTS INC             IL  UNITED STATES OF AMERICA   \n",
       "1           DFS SERVICES LLC             IL  UNITED STATES OF AMERICA   \n",
       "2  EASTBANC TECHNOLOGIES LLC             DC  UNITED STATES OF AMERICA   \n",
       "3          INFO SERVICES LLC             MI  UNITED STATES OF AMERICA   \n",
       "4         BBandT CORPORATION             NC  UNITED STATES OF AMERICA   \n",
       "\n",
       "          ...         PW_SOURCE_YEAR              PW_SOURCE_OTHER  \\\n",
       "0         ...                 2015.0      OFLC ONLINE DATA CENTER   \n",
       "1         ...                 2015.0  WILLIS TOWERS WATSON SURVEY   \n",
       "2         ...                 2015.0      OFLC ONLINE DATA CENTER   \n",
       "3         ...                 2016.0      OFLC ONLINE DATA CENTER   \n",
       "4         ...                 2015.0      OFLC ONLINE DATA CENTER   \n",
       "\n",
       "   WAGE_RATE_OF_PAY_FROM WAGE_RATE_OF_PAY_TO  WAGE_UNIT_OF_PAY H-1B_DEPENDENT  \\\n",
       "0                65811.0             67320.0              Year              N   \n",
       "1                53000.0             57200.0              Year              N   \n",
       "2                77000.0                 0.0              Year              Y   \n",
       "3               102000.0                 0.0              Year              Y   \n",
       "4               132500.0                 0.0              Year              N   \n",
       "\n",
       "  WILLFUL_VIOLATOR  WORKSITE_STATE WORKSITE_POSTAL_CODE         CASE_STATUS  \n",
       "0                N              IL                60015  CERTIFIEDWITHDRAWN  \n",
       "1                N              IL                60015  CERTIFIEDWITHDRAWN  \n",
       "2                N              DC                20007  CERTIFIEDWITHDRAWN  \n",
       "3                N              NJ                 7302           WITHDRAWN  \n",
       "4                N              NY                10036  CERTIFIEDWITHDRAWN  \n",
       "\n",
       "[5 rows x 27 columns]"
      ]
     },
     "execution_count": 2,
     "metadata": {},
     "output_type": "execute_result"
    }
   ],
   "source": [
    "path = \"/Users/kia/Desktop/SYS 6016/Midterm Project/h1b-disclosure-dataset/H1B Disclosure Dataset Files/\"\n",
    "file = \"1. Master H1B Dataset.csv\"\n",
    "h1b_df = pd.read_csv(path+file,low_memory = False, encoding = \"ISO-8859-1\")\n",
    "h1b_df.head()"
   ]
  },
  {
   "cell_type": "markdown",
   "metadata": {},
   "source": [
    "# Data Cleaning & Preprocessing"
   ]
  },
  {
   "cell_type": "markdown",
   "metadata": {},
   "source": [
    "## Impute Missing Values"
   ]
  },
  {
   "cell_type": "code",
   "execution_count": 3,
   "metadata": {},
   "outputs": [
    {
     "data": {
      "text/plain": [
       "CASE_SUBMITTED_DAY           0\n",
       "CASE_SUBMITTED_MONTH         0\n",
       "CASE_SUBMITTED_YEAR          0\n",
       "DECISION_DAY                 0\n",
       "DECISION_MONTH               0\n",
       "DECISION_YEAR                0\n",
       "VISA_CLASS                   0\n",
       "EMPLOYER_NAME               39\n",
       "EMPLOYER_STATE              10\n",
       "EMPLOYER_COUNTRY             0\n",
       "SOC_NAME                     0\n",
       "NAICS_CODE                   2\n",
       "TOTAL_WORKERS                0\n",
       "FULL_TIME_POSITION           3\n",
       "PREVAILING_WAGE              0\n",
       "PW_UNIT_OF_PAY              33\n",
       "PW_SOURCE                   33\n",
       "PW_SOURCE_YEAR              31\n",
       "PW_SOURCE_OTHER              0\n",
       "WAGE_RATE_OF_PAY_FROM        0\n",
       "WAGE_RATE_OF_PAY_TO          0\n",
       "WAGE_UNIT_OF_PAY             4\n",
       "H-1B_DEPENDENT           10300\n",
       "WILLFUL_VIOLATOR         10301\n",
       "WORKSITE_STATE               0\n",
       "WORKSITE_POSTAL_CODE         0\n",
       "CASE_STATUS                  0\n",
       "dtype: int64"
      ]
     },
     "execution_count": 3,
     "metadata": {},
     "output_type": "execute_result"
    }
   ],
   "source": [
    "h1b_df.isnull().sum()"
   ]
  },
  {
   "cell_type": "code",
   "execution_count": 4,
   "metadata": {
    "collapsed": true
   },
   "outputs": [],
   "source": [
    "# delete rows with employer name, state and NAICS_CODE missing\n",
    "filter_df1 = h1b_df[h1b_df['EMPLOYER_NAME'].notnull()]\n",
    "filter_df2 = filter_df1[filter_df1['EMPLOYER_STATE'].notnull()]\n",
    "filter_df3 = filter_df2[filter_df2['NAICS_CODE'].notnull()]"
   ]
  },
  {
   "cell_type": "code",
   "execution_count": 5,
   "metadata": {
    "collapsed": true
   },
   "outputs": [],
   "source": [
    "# This is an extension by D.Brown to sveitser, 2014 https://stackoverflow.com/users/469992/sveitser\n",
    "from sklearn.base import TransformerMixin\n",
    "\n",
    "class DataFrameImputer(TransformerMixin):\n",
    "\n",
    "    def __init__(self):\n",
    "        \"\"\"Impute missing values.\n",
    "\n",
    "        Columns of dtype object are imputed with the most frequent value \n",
    "        in column.\n",
    "        \n",
    "        Columns of dtype floating point are imputed with the mean.\n",
    "\n",
    "        Columns of other types are imputed with median of the column.\n",
    "\n",
    "        \"\"\"\n",
    "    def fit(self, X, y=None):\n",
    "\n",
    "        self.fill = pd.Series([X[c].value_counts().index[0]\n",
    "            if X[c].dtype == np.dtype('O') \n",
    "                               else X[c].mean() if X[c].dtype == np.dtype('f')\n",
    "                                else X[c].median() for c in X],\n",
    "            index=X.columns)\n",
    "\n",
    "        return self\n",
    "\n",
    "    def transform(self, X, y=None):\n",
    "        return X.fillna(self.fill)"
   ]
  },
  {
   "cell_type": "code",
   "execution_count": 6,
   "metadata": {},
   "outputs": [
    {
     "data": {
      "text/plain": [
       "CASE_SUBMITTED_DAY       0\n",
       "CASE_SUBMITTED_MONTH     0\n",
       "CASE_SUBMITTED_YEAR      0\n",
       "DECISION_DAY             0\n",
       "DECISION_MONTH           0\n",
       "DECISION_YEAR            0\n",
       "VISA_CLASS               0\n",
       "EMPLOYER_NAME            0\n",
       "EMPLOYER_STATE           0\n",
       "EMPLOYER_COUNTRY         0\n",
       "SOC_NAME                 0\n",
       "NAICS_CODE               0\n",
       "TOTAL_WORKERS            0\n",
       "FULL_TIME_POSITION       0\n",
       "PREVAILING_WAGE          0\n",
       "PW_UNIT_OF_PAY           0\n",
       "PW_SOURCE                0\n",
       "PW_SOURCE_YEAR           0\n",
       "PW_SOURCE_OTHER          0\n",
       "WAGE_RATE_OF_PAY_FROM    0\n",
       "WAGE_RATE_OF_PAY_TO      0\n",
       "WAGE_UNIT_OF_PAY         0\n",
       "H-1B_DEPENDENT           0\n",
       "WILLFUL_VIOLATOR         0\n",
       "WORKSITE_STATE           0\n",
       "WORKSITE_POSTAL_CODE     0\n",
       "CASE_STATUS              0\n",
       "dtype: int64"
      ]
     },
     "execution_count": 6,
     "metadata": {},
     "output_type": "execute_result"
    }
   ],
   "source": [
    "# doing the imputation\n",
    "clean_df = DataFrameImputer().fit_transform(filter_df3)\n",
    "clean_df.isnull().sum()"
   ]
  },
  {
   "cell_type": "markdown",
   "metadata": {},
   "source": [
    "## Create a variable as our new response variable based on CASE_STATUS"
   ]
  },
  {
   "cell_type": "code",
   "execution_count": 7,
   "metadata": {},
   "outputs": [
    {
     "data": {
      "text/html": [
       "<div>\n",
       "<style scoped>\n",
       "    .dataframe tbody tr th:only-of-type {\n",
       "        vertical-align: middle;\n",
       "    }\n",
       "\n",
       "    .dataframe tbody tr th {\n",
       "        vertical-align: top;\n",
       "    }\n",
       "\n",
       "    .dataframe thead th {\n",
       "        text-align: right;\n",
       "    }\n",
       "</style>\n",
       "<table border=\"1\" class=\"dataframe\">\n",
       "  <thead>\n",
       "    <tr style=\"text-align: right;\">\n",
       "      <th></th>\n",
       "      <th>CASE_SUBMITTED_DAY</th>\n",
       "      <th>CASE_SUBMITTED_MONTH</th>\n",
       "      <th>CASE_SUBMITTED_YEAR</th>\n",
       "      <th>DECISION_DAY</th>\n",
       "      <th>DECISION_MONTH</th>\n",
       "      <th>DECISION_YEAR</th>\n",
       "      <th>VISA_CLASS</th>\n",
       "      <th>EMPLOYER_NAME</th>\n",
       "      <th>EMPLOYER_STATE</th>\n",
       "      <th>EMPLOYER_COUNTRY</th>\n",
       "      <th>...</th>\n",
       "      <th>PW_SOURCE_YEAR</th>\n",
       "      <th>PW_SOURCE_OTHER</th>\n",
       "      <th>WAGE_RATE_OF_PAY_FROM</th>\n",
       "      <th>WAGE_RATE_OF_PAY_TO</th>\n",
       "      <th>WAGE_UNIT_OF_PAY</th>\n",
       "      <th>H-1B_DEPENDENT</th>\n",
       "      <th>WILLFUL_VIOLATOR</th>\n",
       "      <th>WORKSITE_STATE</th>\n",
       "      <th>WORKSITE_POSTAL_CODE</th>\n",
       "      <th>OUTCOME</th>\n",
       "    </tr>\n",
       "  </thead>\n",
       "  <tbody>\n",
       "    <tr>\n",
       "      <th>0</th>\n",
       "      <td>24</td>\n",
       "      <td>2</td>\n",
       "      <td>2016</td>\n",
       "      <td>1</td>\n",
       "      <td>10</td>\n",
       "      <td>2016</td>\n",
       "      <td>H1B</td>\n",
       "      <td>DISCOVER PRODUCTS INC</td>\n",
       "      <td>IL</td>\n",
       "      <td>UNITED STATES OF AMERICA</td>\n",
       "      <td>...</td>\n",
       "      <td>2015.0</td>\n",
       "      <td>OFLC ONLINE DATA CENTER</td>\n",
       "      <td>65811.0</td>\n",
       "      <td>67320.0</td>\n",
       "      <td>Year</td>\n",
       "      <td>N</td>\n",
       "      <td>N</td>\n",
       "      <td>IL</td>\n",
       "      <td>60015</td>\n",
       "      <td>CERTIFIED</td>\n",
       "    </tr>\n",
       "    <tr>\n",
       "      <th>1</th>\n",
       "      <td>4</td>\n",
       "      <td>3</td>\n",
       "      <td>2016</td>\n",
       "      <td>1</td>\n",
       "      <td>10</td>\n",
       "      <td>2016</td>\n",
       "      <td>H1B</td>\n",
       "      <td>DFS SERVICES LLC</td>\n",
       "      <td>IL</td>\n",
       "      <td>UNITED STATES OF AMERICA</td>\n",
       "      <td>...</td>\n",
       "      <td>2015.0</td>\n",
       "      <td>WILLIS TOWERS WATSON SURVEY</td>\n",
       "      <td>53000.0</td>\n",
       "      <td>57200.0</td>\n",
       "      <td>Year</td>\n",
       "      <td>N</td>\n",
       "      <td>N</td>\n",
       "      <td>IL</td>\n",
       "      <td>60015</td>\n",
       "      <td>CERTIFIED</td>\n",
       "    </tr>\n",
       "    <tr>\n",
       "      <th>2</th>\n",
       "      <td>10</td>\n",
       "      <td>3</td>\n",
       "      <td>2016</td>\n",
       "      <td>1</td>\n",
       "      <td>10</td>\n",
       "      <td>2016</td>\n",
       "      <td>H1B</td>\n",
       "      <td>EASTBANC TECHNOLOGIES LLC</td>\n",
       "      <td>DC</td>\n",
       "      <td>UNITED STATES OF AMERICA</td>\n",
       "      <td>...</td>\n",
       "      <td>2015.0</td>\n",
       "      <td>OFLC ONLINE DATA CENTER</td>\n",
       "      <td>77000.0</td>\n",
       "      <td>0.0</td>\n",
       "      <td>Year</td>\n",
       "      <td>Y</td>\n",
       "      <td>N</td>\n",
       "      <td>DC</td>\n",
       "      <td>20007</td>\n",
       "      <td>CERTIFIED</td>\n",
       "    </tr>\n",
       "    <tr>\n",
       "      <th>3</th>\n",
       "      <td>28</td>\n",
       "      <td>9</td>\n",
       "      <td>2016</td>\n",
       "      <td>1</td>\n",
       "      <td>10</td>\n",
       "      <td>2016</td>\n",
       "      <td>H1B</td>\n",
       "      <td>INFO SERVICES LLC</td>\n",
       "      <td>MI</td>\n",
       "      <td>UNITED STATES OF AMERICA</td>\n",
       "      <td>...</td>\n",
       "      <td>2016.0</td>\n",
       "      <td>OFLC ONLINE DATA CENTER</td>\n",
       "      <td>102000.0</td>\n",
       "      <td>0.0</td>\n",
       "      <td>Year</td>\n",
       "      <td>Y</td>\n",
       "      <td>N</td>\n",
       "      <td>NJ</td>\n",
       "      <td>7302</td>\n",
       "      <td>NOTCERTIFIED</td>\n",
       "    </tr>\n",
       "    <tr>\n",
       "      <th>4</th>\n",
       "      <td>22</td>\n",
       "      <td>2</td>\n",
       "      <td>2015</td>\n",
       "      <td>2</td>\n",
       "      <td>10</td>\n",
       "      <td>2016</td>\n",
       "      <td>H1B</td>\n",
       "      <td>BBandT CORPORATION</td>\n",
       "      <td>NC</td>\n",
       "      <td>UNITED STATES OF AMERICA</td>\n",
       "      <td>...</td>\n",
       "      <td>2015.0</td>\n",
       "      <td>OFLC ONLINE DATA CENTER</td>\n",
       "      <td>132500.0</td>\n",
       "      <td>0.0</td>\n",
       "      <td>Year</td>\n",
       "      <td>N</td>\n",
       "      <td>N</td>\n",
       "      <td>NY</td>\n",
       "      <td>10036</td>\n",
       "      <td>CERTIFIED</td>\n",
       "    </tr>\n",
       "  </tbody>\n",
       "</table>\n",
       "<p>5 rows × 27 columns</p>\n",
       "</div>"
      ],
      "text/plain": [
       "   CASE_SUBMITTED_DAY  CASE_SUBMITTED_MONTH  CASE_SUBMITTED_YEAR  \\\n",
       "0                  24                     2                 2016   \n",
       "1                   4                     3                 2016   \n",
       "2                  10                     3                 2016   \n",
       "3                  28                     9                 2016   \n",
       "4                  22                     2                 2015   \n",
       "\n",
       "   DECISION_DAY  DECISION_MONTH  DECISION_YEAR VISA_CLASS  \\\n",
       "0             1              10           2016        H1B   \n",
       "1             1              10           2016        H1B   \n",
       "2             1              10           2016        H1B   \n",
       "3             1              10           2016        H1B   \n",
       "4             2              10           2016        H1B   \n",
       "\n",
       "               EMPLOYER_NAME EMPLOYER_STATE          EMPLOYER_COUNTRY  \\\n",
       "0      DISCOVER PRODUCTS INC             IL  UNITED STATES OF AMERICA   \n",
       "1           DFS SERVICES LLC             IL  UNITED STATES OF AMERICA   \n",
       "2  EASTBANC TECHNOLOGIES LLC             DC  UNITED STATES OF AMERICA   \n",
       "3          INFO SERVICES LLC             MI  UNITED STATES OF AMERICA   \n",
       "4         BBandT CORPORATION             NC  UNITED STATES OF AMERICA   \n",
       "\n",
       "       ...      PW_SOURCE_YEAR              PW_SOURCE_OTHER  \\\n",
       "0      ...              2015.0      OFLC ONLINE DATA CENTER   \n",
       "1      ...              2015.0  WILLIS TOWERS WATSON SURVEY   \n",
       "2      ...              2015.0      OFLC ONLINE DATA CENTER   \n",
       "3      ...              2016.0      OFLC ONLINE DATA CENTER   \n",
       "4      ...              2015.0      OFLC ONLINE DATA CENTER   \n",
       "\n",
       "   WAGE_RATE_OF_PAY_FROM WAGE_RATE_OF_PAY_TO  WAGE_UNIT_OF_PAY H-1B_DEPENDENT  \\\n",
       "0                65811.0             67320.0              Year              N   \n",
       "1                53000.0             57200.0              Year              N   \n",
       "2                77000.0                 0.0              Year              Y   \n",
       "3               102000.0                 0.0              Year              Y   \n",
       "4               132500.0                 0.0              Year              N   \n",
       "\n",
       "  WILLFUL_VIOLATOR  WORKSITE_STATE WORKSITE_POSTAL_CODE       OUTCOME  \n",
       "0                N              IL                60015     CERTIFIED  \n",
       "1                N              IL                60015     CERTIFIED  \n",
       "2                N              DC                20007     CERTIFIED  \n",
       "3                N              NJ                 7302  NOTCERTIFIED  \n",
       "4                N              NY                10036     CERTIFIED  \n",
       "\n",
       "[5 rows x 27 columns]"
      ]
     },
     "execution_count": 7,
     "metadata": {},
     "output_type": "execute_result"
    }
   ],
   "source": [
    "clean_df.loc[clean_df['CASE_STATUS'] == 'CERTIFIED', 'OUTCOME'] = 'CERTIFIED'\n",
    "clean_df.loc[clean_df['CASE_STATUS'] == 'WITHDRAWN', 'OUTCOME'] = 'NOTCERTIFIED'\n",
    "clean_df.loc[clean_df['CASE_STATUS'] == 'CERTIFIEDWITHDRAWN', 'OUTCOME'] = 'CERTIFIED'\n",
    "clean_df.loc[clean_df['CASE_STATUS'] == 'DENIED', 'OUTCOME'] = 'NOTCERTIFIED'\n",
    "clean_df = clean_df.drop(['CASE_STATUS'],axis = 1)\n",
    "clean_df.head()"
   ]
  },
  {
   "cell_type": "markdown",
   "metadata": {},
   "source": [
    "## Convert the date columns"
   ]
  },
  {
   "cell_type": "code",
   "execution_count": 8,
   "metadata": {},
   "outputs": [
    {
     "data": {
      "text/plain": [
       "0   2016-02-24\n",
       "1   2016-03-04\n",
       "2   2016-03-10\n",
       "3   2016-09-28\n",
       "4   2015-02-22\n",
       "Name: CASE_SUBMITTED, dtype: datetime64[ns]"
      ]
     },
     "execution_count": 8,
     "metadata": {},
     "output_type": "execute_result"
    }
   ],
   "source": [
    "clean_df['CASE_SUBMITTED'] = clean_df['CASE_SUBMITTED_YEAR'].astype(str)+ '-'+ clean_df['CASE_SUBMITTED_MONTH'].astype(str) +'-'+ clean_df['CASE_SUBMITTED_DAY'].astype(str)\n",
    "clean_df['CASE_SUBMITTED'] = pd.to_datetime(clean_df['CASE_SUBMITTED'])\n",
    "clean_df['CASE_SUBMITTED'].head()"
   ]
  },
  {
   "cell_type": "code",
   "execution_count": 9,
   "metadata": {},
   "outputs": [
    {
     "data": {
      "text/plain": [
       "0   2016-10-01\n",
       "1   2016-10-01\n",
       "2   2016-10-01\n",
       "3   2016-10-01\n",
       "4   2016-10-02\n",
       "Name: DECISION, dtype: datetime64[ns]"
      ]
     },
     "execution_count": 9,
     "metadata": {},
     "output_type": "execute_result"
    }
   ],
   "source": [
    "clean_df['DECISION'] = clean_df['DECISION_YEAR'].astype(str)+ '-'+ clean_df['DECISION_MONTH'].astype(str) +'-'+ clean_df['DECISION_DAY'].astype(str)\n",
    "clean_df['DECISION'] = pd.to_datetime(clean_df['DECISION'])\n",
    "clean_df['DECISION'].head()"
   ]
  },
  {
   "cell_type": "markdown",
   "metadata": {},
   "source": [
    "## Subset the dataset by selecting all analyst/engineer jobs"
   ]
  },
  {
   "cell_type": "code",
   "execution_count": 17,
   "metadata": {},
   "outputs": [
    {
     "data": {
      "text/plain": [
       "COMPUTER OCCUPATION                  245851\n",
       "ANALYSTS                             112772\n",
       "ENGINEERS                             43842\n",
       "SCIENTIST                             17934\n",
       "FINANCE                               13199\n",
       "DOCTORS                               13079\n",
       "EDUCATION                             12369\n",
       "MARKETING                             10649\n",
       "ACCOUNTANTS                           10589\n",
       "IT MANAGERS                            6147\n",
       "MANAGERS                               5167\n",
       "MATHEMATICIANS AND STATISTICIANS       5046\n",
       "HUMAN RESOURCES                        3132\n",
       "ARCHITECTURE                           2371\n",
       "LAWYERS AND LEGAL SUPPORT WORKERS      2214\n",
       "DESIGNERS                              2075\n",
       "LAB TECHNICIANS                        2044\n",
       "GRAPHIC DESIGNERS                      1992\n",
       "LOGISTICIANS                           1772\n",
       "HEALTHCARE                             1749\n",
       "INTERNIST                              1524\n",
       "PUBLIC RELATIONS                       1129\n",
       "BUSINESS OPERATIONS SPECIALIST          943\n",
       "ECONOMISTS                              893\n",
       "WRITERS EDITORS AND AUTHORS             891\n",
       "CONSTRUCTION                            870\n",
       "ENTERTAINMENT                           780\n",
       "CHIEF EXECUTIVES                        606\n",
       "ACTUARIES                               598\n",
       "COUNSELORS                              535\n",
       "MULTIMEDIA ARTISTS AND ANIMATORS        528\n",
       "ANIMAL HUSBANDARY                       523\n",
       "SALES AND RELATED WORKERS               404\n",
       "AGRICULTURE                             364\n",
       "FASHION DESIGNERS                       324\n",
       "FOOD PREPARATION WORKERS                292\n",
       "SOCIAL WORKERS                          287\n",
       "REAL ESTATE                             282\n",
       "COACHES AND SCOUTS                      272\n",
       "ENGINEERS                               240\n",
       "REPORTERS AND CORRESPONDENTS            223\n",
       "EVENT PLANNERS                          218\n",
       "INTERPRETERS AND TRANSLATORS            203\n",
       "MECHANICS                               166\n",
       "SURVEYORS                               159\n",
       "CURATORS                                156\n",
       "COMMUNICATIONS                          125\n",
       "INSURANCE                               101\n",
       "OFFICE CLERKS                            94\n",
       "RELIGIOUS WORKERS                        86\n",
       "MANAGEMENT                               69\n",
       "FITNESS TRAINERS                         67\n",
       "LIBRARIANS                               56\n",
       "FIRST LINE SUPERVISORS                   43\n",
       "TRANSPORTATION                           30\n",
       "HISTORIANS                                9\n",
       "Name: SOC_NAME, dtype: int64"
      ]
     },
     "execution_count": 17,
     "metadata": {},
     "output_type": "execute_result"
    }
   ],
   "source": [
    "clean_df['SOC_NAME']=clean_df['SOC_NAME'].str.upper()\n",
    "clean_df['SOC_NAME'].value_counts()"
   ]
  },
  {
   "cell_type": "code",
   "execution_count": 21,
   "metadata": {},
   "outputs": [
    {
     "data": {
      "text/plain": [
       "(156854, 29)"
      ]
     },
     "execution_count": 21,
     "metadata": {},
     "output_type": "execute_result"
    }
   ],
   "source": [
    "subset1 = clean_df[clean_df.SOC_NAME.str.match(r'.*ANALYSTS.*', na=False)]\n",
    "subset2 = clean_df[clean_df.SOC_NAME.str.match(r'.*ENGINEERS.*', na=False)]\n",
    "subset_df = pd.concat([subset1,subset2],axis=0)\n",
    "subset_df.shape"
   ]
  },
  {
   "cell_type": "markdown",
   "metadata": {},
   "source": [
    "## Keep the top 10 most popular states + VA +DC"
   ]
  },
  {
   "cell_type": "code",
   "execution_count": 35,
   "metadata": {},
   "outputs": [
    {
     "data": {
      "text/plain": [
       "CA    30251\n",
       "TX    17133\n",
       "NY    13415\n",
       "NJ    12087\n",
       "MA     7063\n",
       "WA     6973\n",
       "FL     5545\n",
       "IL     5462\n",
       "PA     5422\n",
       "GA     5093\n",
       "Name: WORKSITE_STATE, dtype: int64"
      ]
     },
     "execution_count": 35,
     "metadata": {},
     "output_type": "execute_result"
    }
   ],
   "source": [
    "subset_df['WORKSITE_STATE'].value_counts().head(10)"
   ]
  },
  {
   "cell_type": "code",
   "execution_count": 36,
   "metadata": {},
   "outputs": [
    {
     "data": {
      "text/plain": [
       "CA    30251\n",
       "TX    17133\n",
       "NY    13415\n",
       "NJ    12087\n",
       "MA     7063\n",
       "WA     6973\n",
       "FL     5545\n",
       "IL     5462\n",
       "PA     5422\n",
       "GA     5093\n",
       "VA     5080\n",
       "DC      853\n",
       "Name: WORKSITE_STATE, dtype: int64"
      ]
     },
     "execution_count": 36,
     "metadata": {},
     "output_type": "execute_result"
    }
   ],
   "source": [
    "top_states = ['CA','TX','NY','NJ','MA','WA','FL','IL','PA','GA','VA','DC']\n",
    "subset_df = subset_df.loc[subset_df['WORKSITE_STATE'].isin(top_states)]\n",
    "subset_df['WORKSITE_STATE'].value_counts()"
   ]
  },
  {
   "cell_type": "markdown",
   "metadata": {},
   "source": [
    "## Balance the data by downsampling the majority class"
   ]
  },
  {
   "cell_type": "code",
   "execution_count": 37,
   "metadata": {},
   "outputs": [
    {
     "data": {
      "text/plain": [
       "CERTIFIED       112431\n",
       "NOTCERTIFIED      1946\n",
       "Name: OUTCOME, dtype: int64"
      ]
     },
     "execution_count": 37,
     "metadata": {},
     "output_type": "execute_result"
    }
   ],
   "source": [
    "subset_df['OUTCOME'].value_counts()"
   ]
  },
  {
   "cell_type": "code",
   "execution_count": 38,
   "metadata": {},
   "outputs": [
    {
     "data": {
      "text/plain": [
       "NOTCERTIFIED    1946\n",
       "CERTIFIED       1946\n",
       "Name: OUTCOME, dtype: int64"
      ]
     },
     "execution_count": 38,
     "metadata": {},
     "output_type": "execute_result"
    }
   ],
   "source": [
    "balance_df = subset_df.groupby('OUTCOME')\n",
    "balance_df = balance_df.apply(lambda x: x.sample(balance_df.size().min(),random_state=42).reset_index(drop=True))\n",
    "balance_df['OUTCOME'].value_counts()"
   ]
  },
  {
   "cell_type": "markdown",
   "metadata": {},
   "source": [
    "## Convert response variable to 1 & 0"
   ]
  },
  {
   "cell_type": "code",
   "execution_count": 39,
   "metadata": {},
   "outputs": [],
   "source": [
    "balance_df['OUTCOME'] = balance_df['OUTCOME'].eq('CERTIFIED').mul(1)"
   ]
  },
  {
   "cell_type": "markdown",
   "metadata": {},
   "source": [
    "## Convert categorical explanatory variables to dummies & drop unuseful variables"
   ]
  },
  {
   "cell_type": "code",
   "execution_count": 40,
   "metadata": {
    "scrolled": true
   },
   "outputs": [
    {
     "data": {
      "text/html": [
       "<div>\n",
       "<style scoped>\n",
       "    .dataframe tbody tr th:only-of-type {\n",
       "        vertical-align: middle;\n",
       "    }\n",
       "\n",
       "    .dataframe tbody tr th {\n",
       "        vertical-align: top;\n",
       "    }\n",
       "\n",
       "    .dataframe thead th {\n",
       "        text-align: right;\n",
       "    }\n",
       "</style>\n",
       "<table border=\"1\" class=\"dataframe\">\n",
       "  <thead>\n",
       "    <tr style=\"text-align: right;\">\n",
       "      <th></th>\n",
       "      <th></th>\n",
       "      <th>CASE_SUBMITTED_DAY</th>\n",
       "      <th>CASE_SUBMITTED_MONTH</th>\n",
       "      <th>CASE_SUBMITTED_YEAR</th>\n",
       "      <th>DECISION_DAY</th>\n",
       "      <th>DECISION_MONTH</th>\n",
       "      <th>DECISION_YEAR</th>\n",
       "      <th>NAICS_CODE</th>\n",
       "      <th>TOTAL_WORKERS</th>\n",
       "      <th>PREVAILING_WAGE</th>\n",
       "      <th>PW_SOURCE_YEAR</th>\n",
       "      <th>...</th>\n",
       "      <th>WORKSITE_STATE_FL</th>\n",
       "      <th>WORKSITE_STATE_GA</th>\n",
       "      <th>WORKSITE_STATE_IL</th>\n",
       "      <th>WORKSITE_STATE_MA</th>\n",
       "      <th>WORKSITE_STATE_NJ</th>\n",
       "      <th>WORKSITE_STATE_NY</th>\n",
       "      <th>WORKSITE_STATE_PA</th>\n",
       "      <th>WORKSITE_STATE_TX</th>\n",
       "      <th>WORKSITE_STATE_VA</th>\n",
       "      <th>WORKSITE_STATE_WA</th>\n",
       "    </tr>\n",
       "    <tr>\n",
       "      <th>OUTCOME</th>\n",
       "      <th></th>\n",
       "      <th></th>\n",
       "      <th></th>\n",
       "      <th></th>\n",
       "      <th></th>\n",
       "      <th></th>\n",
       "      <th></th>\n",
       "      <th></th>\n",
       "      <th></th>\n",
       "      <th></th>\n",
       "      <th></th>\n",
       "      <th></th>\n",
       "      <th></th>\n",
       "      <th></th>\n",
       "      <th></th>\n",
       "      <th></th>\n",
       "      <th></th>\n",
       "      <th></th>\n",
       "      <th></th>\n",
       "      <th></th>\n",
       "      <th></th>\n",
       "      <th></th>\n",
       "    </tr>\n",
       "  </thead>\n",
       "  <tbody>\n",
       "    <tr>\n",
       "      <th rowspan=\"5\" valign=\"top\">CERTIFIED</th>\n",
       "      <th>0</th>\n",
       "      <td>2</td>\n",
       "      <td>3</td>\n",
       "      <td>2017</td>\n",
       "      <td>8</td>\n",
       "      <td>3</td>\n",
       "      <td>2017</td>\n",
       "      <td>621210.0</td>\n",
       "      <td>2</td>\n",
       "      <td>48.97</td>\n",
       "      <td>2017.0</td>\n",
       "      <td>...</td>\n",
       "      <td>0</td>\n",
       "      <td>0</td>\n",
       "      <td>0</td>\n",
       "      <td>0</td>\n",
       "      <td>0</td>\n",
       "      <td>0</td>\n",
       "      <td>0</td>\n",
       "      <td>1</td>\n",
       "      <td>0</td>\n",
       "      <td>0</td>\n",
       "    </tr>\n",
       "    <tr>\n",
       "      <th>1</th>\n",
       "      <td>1</td>\n",
       "      <td>11</td>\n",
       "      <td>2016</td>\n",
       "      <td>7</td>\n",
       "      <td>11</td>\n",
       "      <td>2016</td>\n",
       "      <td>541511.0</td>\n",
       "      <td>1</td>\n",
       "      <td>83304.00</td>\n",
       "      <td>2016.0</td>\n",
       "      <td>...</td>\n",
       "      <td>0</td>\n",
       "      <td>0</td>\n",
       "      <td>0</td>\n",
       "      <td>0</td>\n",
       "      <td>0</td>\n",
       "      <td>0</td>\n",
       "      <td>0</td>\n",
       "      <td>0</td>\n",
       "      <td>1</td>\n",
       "      <td>0</td>\n",
       "    </tr>\n",
       "    <tr>\n",
       "      <th>2</th>\n",
       "      <td>22</td>\n",
       "      <td>2</td>\n",
       "      <td>2017</td>\n",
       "      <td>28</td>\n",
       "      <td>2</td>\n",
       "      <td>2017</td>\n",
       "      <td>519190.0</td>\n",
       "      <td>1</td>\n",
       "      <td>104936.00</td>\n",
       "      <td>2016.0</td>\n",
       "      <td>...</td>\n",
       "      <td>0</td>\n",
       "      <td>0</td>\n",
       "      <td>0</td>\n",
       "      <td>0</td>\n",
       "      <td>0</td>\n",
       "      <td>1</td>\n",
       "      <td>0</td>\n",
       "      <td>0</td>\n",
       "      <td>0</td>\n",
       "      <td>0</td>\n",
       "    </tr>\n",
       "    <tr>\n",
       "      <th>3</th>\n",
       "      <td>20</td>\n",
       "      <td>4</td>\n",
       "      <td>2016</td>\n",
       "      <td>25</td>\n",
       "      <td>4</td>\n",
       "      <td>2017</td>\n",
       "      <td>51121.0</td>\n",
       "      <td>1</td>\n",
       "      <td>85176.00</td>\n",
       "      <td>2015.0</td>\n",
       "      <td>...</td>\n",
       "      <td>0</td>\n",
       "      <td>0</td>\n",
       "      <td>0</td>\n",
       "      <td>0</td>\n",
       "      <td>0</td>\n",
       "      <td>0</td>\n",
       "      <td>0</td>\n",
       "      <td>0</td>\n",
       "      <td>0</td>\n",
       "      <td>1</td>\n",
       "    </tr>\n",
       "    <tr>\n",
       "      <th>4</th>\n",
       "      <td>30</td>\n",
       "      <td>9</td>\n",
       "      <td>2016</td>\n",
       "      <td>6</td>\n",
       "      <td>10</td>\n",
       "      <td>2016</td>\n",
       "      <td>4247.0</td>\n",
       "      <td>1</td>\n",
       "      <td>84552.00</td>\n",
       "      <td>2016.0</td>\n",
       "      <td>...</td>\n",
       "      <td>0</td>\n",
       "      <td>0</td>\n",
       "      <td>0</td>\n",
       "      <td>0</td>\n",
       "      <td>0</td>\n",
       "      <td>0</td>\n",
       "      <td>1</td>\n",
       "      <td>0</td>\n",
       "      <td>0</td>\n",
       "      <td>0</td>\n",
       "    </tr>\n",
       "  </tbody>\n",
       "</table>\n",
       "<p>5 rows × 43 columns</p>\n",
       "</div>"
      ],
      "text/plain": [
       "             CASE_SUBMITTED_DAY  CASE_SUBMITTED_MONTH  CASE_SUBMITTED_YEAR  \\\n",
       "OUTCOME                                                                      \n",
       "CERTIFIED 0                   2                     3                 2017   \n",
       "          1                   1                    11                 2016   \n",
       "          2                  22                     2                 2017   \n",
       "          3                  20                     4                 2016   \n",
       "          4                  30                     9                 2016   \n",
       "\n",
       "             DECISION_DAY  DECISION_MONTH  DECISION_YEAR  NAICS_CODE  \\\n",
       "OUTCOME                                                                \n",
       "CERTIFIED 0             8               3           2017    621210.0   \n",
       "          1             7              11           2016    541511.0   \n",
       "          2            28               2           2017    519190.0   \n",
       "          3            25               4           2017     51121.0   \n",
       "          4             6              10           2016      4247.0   \n",
       "\n",
       "             TOTAL_WORKERS  PREVAILING_WAGE  PW_SOURCE_YEAR  \\\n",
       "OUTCOME                                                       \n",
       "CERTIFIED 0              2            48.97          2017.0   \n",
       "          1              1         83304.00          2016.0   \n",
       "          2              1        104936.00          2016.0   \n",
       "          3              1         85176.00          2015.0   \n",
       "          4              1         84552.00          2016.0   \n",
       "\n",
       "                   ...          WORKSITE_STATE_FL  WORKSITE_STATE_GA  \\\n",
       "OUTCOME            ...                                                 \n",
       "CERTIFIED 0        ...                          0                  0   \n",
       "          1        ...                          0                  0   \n",
       "          2        ...                          0                  0   \n",
       "          3        ...                          0                  0   \n",
       "          4        ...                          0                  0   \n",
       "\n",
       "             WORKSITE_STATE_IL  WORKSITE_STATE_MA  WORKSITE_STATE_NJ  \\\n",
       "OUTCOME                                                                \n",
       "CERTIFIED 0                  0                  0                  0   \n",
       "          1                  0                  0                  0   \n",
       "          2                  0                  0                  0   \n",
       "          3                  0                  0                  0   \n",
       "          4                  0                  0                  0   \n",
       "\n",
       "             WORKSITE_STATE_NY  WORKSITE_STATE_PA  WORKSITE_STATE_TX  \\\n",
       "OUTCOME                                                                \n",
       "CERTIFIED 0                  0                  0                  1   \n",
       "          1                  0                  0                  0   \n",
       "          2                  1                  0                  0   \n",
       "          3                  0                  0                  0   \n",
       "          4                  0                  1                  0   \n",
       "\n",
       "             WORKSITE_STATE_VA  WORKSITE_STATE_WA  \n",
       "OUTCOME                                            \n",
       "CERTIFIED 0                  0                  0  \n",
       "          1                  1                  0  \n",
       "          2                  0                  0  \n",
       "          3                  0                  1  \n",
       "          4                  0                  0  \n",
       "\n",
       "[5 rows x 43 columns]"
      ]
     },
     "execution_count": 40,
     "metadata": {},
     "output_type": "execute_result"
    }
   ],
   "source": [
    "cats = balance_df.select_dtypes(include=['object'])\n",
    "cats = cats.drop(['VISA_CLASS','PW_SOURCE','EMPLOYER_NAME','EMPLOYER_STATE','PW_SOURCE_OTHER','EMPLOYER_COUNTRY','WORKSITE_POSTAL_CODE'],axis=1)\n",
    "cats = pd.get_dummies(cats)\n",
    "nocats = balance_df.select_dtypes(exclude=['object','datetime'])\n",
    "balance_df = pd.concat([nocats, cats], axis=1)\n",
    "predictor_df = balance_df.drop(['OUTCOME'],axis=1)\n",
    "predictor_df.head()"
   ]
  },
  {
   "cell_type": "markdown",
   "metadata": {},
   "source": [
    "# Data Exploration"
   ]
  },
  {
   "cell_type": "markdown",
   "metadata": {},
   "source": [
    "## PCA"
   ]
  },
  {
   "cell_type": "code",
   "execution_count": 41,
   "metadata": {
    "collapsed": true
   },
   "outputs": [],
   "source": [
    "scaler = StandardScaler()\n",
    "predictor_scaled = scaler.fit_transform(predictor_df)"
   ]
  },
  {
   "cell_type": "code",
   "execution_count": 42,
   "metadata": {},
   "outputs": [
    {
     "name": "stdout",
     "output_type": "stream",
     "text": [
      "Percent of explained variance (first 2 components): 21\n"
     ]
    }
   ],
   "source": [
    "############\n",
    "## PCA for Spam predictors\n",
    "# Log transform\n",
    "\n",
    "n = len(predictor_df.columns)\n",
    "\n",
    "pca = PCA(n_components = n)\n",
    "h1b_pca = pca.fit_transform(predictor_scaled)\n",
    "\n",
    "#Percentage of variance explained by the first 2 components\n",
    "\n",
    "percent_explained = pca.explained_variance_ratio_ [:2].sum()*100\n",
    "\n",
    "print (\"Percent of explained variance (first 2 components): %0.0f\" % percent_explained)\n",
    "                "
   ]
  },
  {
   "cell_type": "code",
   "execution_count": 43,
   "metadata": {},
   "outputs": [
    {
     "data": {
      "text/plain": [
       "<matplotlib.text.Text at 0x113e67860>"
      ]
     },
     "execution_count": 43,
     "metadata": {},
     "output_type": "execute_result"
    },
    {
     "data": {
      "image/png": "[encoded data removed]",
      "text/plain": [
       "<matplotlib.figure.Figure at 0x112a939b0>"
      ]
     },
     "metadata": {},
     "output_type": "display_data"
    }
   ],
   "source": [
    "# PCA loadings\n",
    "# Predictor Variables PCA\n",
    "\n",
    "fig = plt.figure(figsize=(12, 6))\n",
    "Comp1 = fig.add_subplot(121)\n",
    "Comp2 = fig.add_subplot(122)\n",
    "\n",
    "Comp1.vlines(range(1,n), [0],pca.components_[1,:])\n",
    "Comp1.set_xlabel('Predictor Variables')\n",
    "Comp1.set_title('Component 1 Loadings')\n",
    "\n",
    "Comp2.vlines(range(1,n), [0],pca.components_[2,:])\n",
    "Comp2.set_xlabel('Predictor Variables')\n",
    "Comp2.set_title('Component 2 Loadings')"
   ]
  },
  {
   "cell_type": "code",
   "execution_count": 44,
   "metadata": {},
   "outputs": [
    {
     "data": {
      "text/plain": [
       "<matplotlib.collections.PathCollection at 0x1141014e0>"
      ]
     },
     "execution_count": 44,
     "metadata": {},
     "output_type": "execute_result"
    },
    {
     "data": {
      "image/png": "[encoded data removed]",
      "text/plain": [
       "<matplotlib.figure.Figure at 0x112a7bd30>"
      ]
     },
     "metadata": {},
     "output_type": "display_data"
    }
   ],
   "source": [
    "# # PCA scatter\n",
    "\n",
    "plt.scatter(h1b_pca[:,0],h1b_pca[:,1])"
   ]
  },
  {
   "cell_type": "code",
   "execution_count": 45,
   "metadata": {},
   "outputs": [
    {
     "data": {
      "text/plain": [
       "<matplotlib.text.Text at 0x107ad2c50>"
      ]
     },
     "execution_count": 45,
     "metadata": {},
     "output_type": "execute_result"
    },
    {
     "data": {
      "image/png": "[encoded data removed]",
      "text/plain": [
       "<matplotlib.figure.Figure at 0x113e84080>"
      ]
     },
     "metadata": {},
     "output_type": "display_data"
    }
   ],
   "source": [
    "Certified = balance_df.OUTCOME == 1\n",
    "# PCA plot with labels for certified\n",
    "colors = ['navy', 'darkorange']\n",
    "\n",
    "fig, ax = plt.subplots()\n",
    "for i, color in  zip([False, True], colors):\n",
    "        ax.scatter(h1b_pca[Certified == i, 0],\n",
    "                   h1b_pca[Certified == i, 1], c = color, label=i)\n",
    "\n",
    "\n",
    "ax.legend(loc = 3)\n",
    "ax.grid(True)\n",
    "plt.xlabel(\"Component 1\")\n",
    "plt.ylabel(\"Component 2\")\n",
    "plt.title('Principal Component Plot of the Response Variable')"
   ]
  },
  {
   "cell_type": "markdown",
   "metadata": {},
   "source": [
    "## t-SNE with perplexity of 100"
   ]
  },
  {
   "cell_type": "code",
   "execution_count": 48,
   "metadata": {},
   "outputs": [],
   "source": [
    "# Get two components for plotting\n",
    "components = 2\n",
    "\n",
    "tsne = TSNE(n_components= components, init='random', perplexity =100,\n",
    "                         random_state=42)\n",
    "\n",
    "h1b_tsne = tsne.fit_transform(predictor_df)"
   ]
  },
  {
   "cell_type": "code",
   "execution_count": 49,
   "metadata": {},
   "outputs": [
    {
     "data": {
      "text/plain": [
       "<matplotlib.collections.PathCollection at 0x1173bd2b0>"
      ]
     },
     "execution_count": 49,
     "metadata": {},
     "output_type": "execute_result"
    },
    {
     "data": {
      "image/png": "[encoded data removed]",
      "text/plain": [
       "<matplotlib.figure.Figure at 0x117704cf8>"
      ]
     },
     "metadata": {},
     "output_type": "display_data"
    }
   ],
   "source": [
    "plt.scatter(h1b_tsne[:,0], h1b_tsne[:,1])"
   ]
  },
  {
   "cell_type": "code",
   "execution_count": 50,
   "metadata": {},
   "outputs": [
    {
     "data": {
      "text/plain": [
       "<matplotlib.text.Text at 0x114313278>"
      ]
     },
     "execution_count": 50,
     "metadata": {},
     "output_type": "execute_result"
    },
    {
     "data": {
      "image/png": "[encoded data removed]",
      "text/plain": [
       "<matplotlib.figure.Figure at 0x13e165dd8>"
      ]
     },
     "metadata": {},
     "output_type": "display_data"
    }
   ],
   "source": [
    "# PCA plot with labels for certified\n",
    "colors = ['navy', 'darkorange']\n",
    "\n",
    "fig, ax = plt.subplots()\n",
    "for i, color in  zip([False, True], colors):\n",
    "        ax.scatter(h1b_tsne[Certified == i, 0],\n",
    "                   h1b_tsne[Certified == i, 1], c = color, label=i)\n",
    "\n",
    "\n",
    "ax.legend(loc = 3)\n",
    "ax.grid(True)\n",
    "plt.xlabel(\"Component 1\")\n",
    "plt.ylabel(\"Component 2\")\n",
    "plt.title('t-SNE Plot of the Response Variable')"
   ]
  },
  {
   "cell_type": "code",
   "execution_count": 122,
   "metadata": {
    "collapsed": true
   },
   "outputs": [],
   "source": [
    "X = pd.concat([balance_df['WAGE_RATE_OF_PAY_FROM'], balance_df['DECISION_YEAR']], axis=1)\n",
    "X = X.as_matrix()\n",
    "y = balance_df['OUTCOME']"
   ]
  },
  {
   "cell_type": "code",
   "execution_count": 125,
   "metadata": {},
   "outputs": [
    {
     "data": {
      "text/plain": [
       "<seaborn.axisgrid.FacetGrid at 0x129e5e2e8>"
      ]
     },
     "execution_count": 125,
     "metadata": {},
     "output_type": "execute_result"
    },
    {
     "data": {
      "image/png": "[encoded data removed]",
      "text/plain": [
       "<matplotlib.figure.Figure at 0x1200199e8>"
      ]
     },
     "metadata": {},
     "output_type": "display_data"
    }
   ],
   "source": [
    "sns.lmplot(\"WAGE_RATE_OF_PAY_FROM\",\"PREVAILING_WAGE\", data=balance_df, hue='OUTCOME')"
   ]
  },
  {
   "cell_type": "code",
   "execution_count": 51,
   "metadata": {
    "collapsed": true
   },
   "outputs": [],
   "source": [
    "# Logistic Regression\n",
    "# Main effect model with all variables\n",
    "\n",
    "X_train, X_test, y_train, y_test = train_test_split(predictor_df, \n",
    "                                                    balance_df['OUTCOME'], random_state=42)\n",
    "\n",
    "\n",
    "log_reg = linear_model.LogisticRegression()\n",
    "\n",
    "log_reg.fit(X_train, y_train)\n",
    "\n",
    "y_pred = log_reg.predict(X_test)\n",
    "\n"
   ]
  },
  {
   "cell_type": "code",
   "execution_count": 52,
   "metadata": {},
   "outputs": [
    {
     "name": "stdout",
     "output_type": "stream",
     "text": [
      "0.68722165125\n",
      "             precision    recall  f1-score   support\n",
      "\n",
      "          0       0.72      0.63      0.67      1482\n",
      "          1       0.66      0.74      0.70      1437\n",
      "\n",
      "avg / total       0.69      0.69      0.69      2919\n",
      "\n"
     ]
    }
   ],
   "source": [
    "# Cross Validation\n",
    "cv_predicted = cross_val_predict(log_reg, X_train, y_train, cv=10)\n",
    "print (accuracy_score(y_train, cv_predicted))\n",
    "\n",
    "print (classification_report(y_train, cv_predicted)) "
   ]
  },
  {
   "cell_type": "code",
   "execution_count": null,
   "metadata": {
    "collapsed": true
   },
   "outputs": [],
   "source": []
  }
 ],
 "metadata": {
  "kernelspec": {
   "display_name": "Python 3",
   "language": "python",
   "name": "python3"
  },
  "language_info": {
   "codemirror_mode": {
    "name": "ipython",
    "version": 3
   },
   "file_extension": ".py",
   "mimetype": "text/x-python",
   "name": "python",
   "nbconvert_exporter": "python",
   "pygments_lexer": "ipython3",
   "version": "3.6.1"
  },
  "toc": {
   "nav_menu": {},
   "number_sections": true,
   "sideBar": true,
   "skip_h1_title": false,
   "title_cell": "Table of Contents",
   "title_sidebar": "Contents",
   "toc_cell": false,
   "toc_position": {},
   "toc_section_display": true,
   "toc_window_display": true
  }
 },
 "nbformat": 4,
 "nbformat_minor": 2
}
